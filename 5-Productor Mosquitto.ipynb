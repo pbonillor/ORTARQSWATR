{
 "cells": [
  {
   "cell_type": "code",
   "execution_count": null,
   "id": "a8cb9367",
   "metadata": {},
   "outputs": [],
   "source": [
    "import time\n",
    "import random\n",
    "from datetime import datetime\n",
    "from paho.mqtt import client as mqtt_client\n",
    "broker = 'localhost'\n",
    "port = 1883\n",
    "topic = \"test-topic\""
   ]
  },
  {
   "cell_type": "code",
   "execution_count": null,
   "id": "ac332a27",
   "metadata": {},
   "outputs": [],
   "source": [
    "id = random.randint(0, 1000000000000000)\n",
    "client_id = f'data-{id}'"
   ]
  },
  {
   "cell_type": "code",
   "execution_count": null,
   "id": "6c7c5a80",
   "metadata": {},
   "outputs": [],
   "source": [
    "client_id"
   ]
  },
  {
   "cell_type": "code",
   "execution_count": null,
   "id": "f878dca9",
   "metadata": {},
   "outputs": [],
   "source": [
    "def connect_mqtt():\n",
    "    def on_connect(client, userdata, flags, rc):\n",
    "        if rc == 0:\n",
    "            print(\"Connected to MQTT Broker!\")\n",
    "        else:\n",
    "            print(\"Failed to connect, return code %d\\n\", rc)\n",
    "\n",
    "    client = mqtt_client.Client(client_id)\n",
    "    username = None\n",
    "    password = None\n",
    "    client.username_pw_set(username, password)\n",
    "    client.on_connect = on_connect\n",
    "    client.connect(broker, port)\n",
    "    return client"
   ]
  },
  {
   "cell_type": "code",
   "execution_count": null,
   "id": "0038e9e8",
   "metadata": {},
   "outputs": [],
   "source": [
    "def publish(client):\n",
    "    now = datetime.now()\n",
    "    date = now.strftime(\"%Y-%m-%d %H:%M:%S\")\n",
    "    data = random.randint(1000, 1300)\n",
    "    msg = str(date)+\" \"+str(data)+\" \"+str(id)\n",
    "    \n",
    "    while True:\n",
    "        time.sleep(1)\n",
    "        msg = f\"{msg}\"\n",
    "        result = client.publish(topic, msg)\n",
    "        # result: [0, 1]\n",
    "        status = result[0]\n",
    "        if status == 0:\n",
    "            print(f\"Send `{msg}` to topic `{topic}`\")\n",
    "        else:\n",
    "            print(f\"Failed to send message to topic {topic}\")\n",
    "        now = datetime.now()\n",
    "        date = now.strftime(\"%Y-%m-%d %H:%M:%S\")\n",
    "        data = random.randint(1000, 1300)\n",
    "        msg = str(date)+\" \"+str(data)+\" \"+str(id)"
   ]
  },
  {
   "cell_type": "code",
   "execution_count": null,
   "id": "3b2cc6b1",
   "metadata": {},
   "outputs": [],
   "source": [
    "client = connect_mqtt()"
   ]
  },
  {
   "cell_type": "code",
   "execution_count": null,
   "id": "71f60c32",
   "metadata": {},
   "outputs": [],
   "source": [
    "client.loop_start()"
   ]
  },
  {
   "cell_type": "code",
   "execution_count": null,
   "id": "1193a11a",
   "metadata": {},
   "outputs": [],
   "source": [
    "publish(client)"
   ]
  },
  {
   "cell_type": "code",
   "execution_count": null,
   "id": "d059a6fe",
   "metadata": {},
   "outputs": [],
   "source": [
    "client.loop_stop()"
   ]
  }
 ],
 "metadata": {
  "kernelspec": {
   "display_name": "Python 3",
   "language": "python",
   "name": "python3"
  },
  "language_info": {
   "codemirror_mode": {
    "name": "ipython",
    "version": 3
   },
   "file_extension": ".py",
   "mimetype": "text/x-python",
   "name": "python",
   "nbconvert_exporter": "python",
   "pygments_lexer": "ipython3",
   "version": "3.7.7"
  }
 },
 "nbformat": 4,
 "nbformat_minor": 5
}
