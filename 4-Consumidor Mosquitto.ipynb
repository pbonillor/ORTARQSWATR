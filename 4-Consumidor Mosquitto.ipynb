{
 "cells": [
  {
   "cell_type": "code",
   "execution_count": null,
   "id": "05ff4e14",
   "metadata": {},
   "outputs": [],
   "source": [
    "import random\n",
    "from paho.mqtt import client as mqtt_client\n",
    "broker = 'localhost'\n",
    "port = 1883\n",
    "topic = \"test-topic\""
   ]
  },
  {
   "cell_type": "code",
   "execution_count": null,
   "id": "cc6fb978",
   "metadata": {},
   "outputs": [],
   "source": [
    "id = random.randint(0, 1000000000000000)\n",
    "client_id = f'data-{id}'"
   ]
  },
  {
   "cell_type": "code",
   "execution_count": null,
   "id": "3e1edd6e",
   "metadata": {},
   "outputs": [],
   "source": [
    "client_id"
   ]
  },
  {
   "cell_type": "code",
   "execution_count": null,
   "id": "4de062be",
   "metadata": {},
   "outputs": [],
   "source": [
    "def connect_mqtt():\n",
    "    def on_connect(client, userdata, flags, rc):\n",
    "        if rc == 0:\n",
    "            print(\"Connected to MQTT Broker!\")\n",
    "        else:\n",
    "            print(\"Failed to connect, return code %d\\n\", rc)\n",
    "\n",
    "    client = mqtt_client.Client(client_id)\n",
    "    username = None\n",
    "    password = None\n",
    "    client.username_pw_set(username, password)\n",
    "    client.on_connect = on_connect\n",
    "    client.connect(broker, port)\n",
    "    return client"
   ]
  },
  {
   "cell_type": "code",
   "execution_count": null,
   "id": "4baaab02",
   "metadata": {},
   "outputs": [],
   "source": [
    "def subscribe(client: mqtt_client):\n",
    "    def on_message(client, userdata, msg):\n",
    "        print(f\"Received `{msg.payload.decode()}` from `{msg.topic}` topic\")\n",
    "\n",
    "    client.subscribe(topic)\n",
    "    client.on_message = on_message"
   ]
  },
  {
   "cell_type": "code",
   "execution_count": null,
   "id": "d2ebcfae",
   "metadata": {},
   "outputs": [],
   "source": [
    "client = connect_mqtt()"
   ]
  },
  {
   "cell_type": "code",
   "execution_count": null,
   "id": "590a819f",
   "metadata": {},
   "outputs": [],
   "source": [
    "subscribe(client)"
   ]
  },
  {
   "cell_type": "code",
   "execution_count": null,
   "id": "85c8397d",
   "metadata": {},
   "outputs": [],
   "source": [
    "client.loop_forever()"
   ]
  },
  {
   "cell_type": "code",
   "execution_count": null,
   "id": "f3d0520e",
   "metadata": {},
   "outputs": [],
   "source": [
    "client.loop_stop()"
   ]
  }
 ],
 "metadata": {
  "kernelspec": {
   "display_name": "Python 3",
   "language": "python",
   "name": "python3"
  },
  "language_info": {
   "codemirror_mode": {
    "name": "ipython",
    "version": 3
   },
   "file_extension": ".py",
   "mimetype": "text/x-python",
   "name": "python",
   "nbconvert_exporter": "python",
   "pygments_lexer": "ipython3",
   "version": "3.7.7"
  }
 },
 "nbformat": 4,
 "nbformat_minor": 5
}
